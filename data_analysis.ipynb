{
 "cells": [
  {
   "cell_type": "code",
   "execution_count": 7,
   "metadata": {},
   "outputs": [
    {
     "name": "stdout",
     "output_type": "stream",
     "text": [
      "3.6.3 (default, Oct  4 2017, 06:09:38) \n",
      "[GCC 4.2.1 Compatible Apple LLVM 9.0.0 (clang-900.0.37)]\n"
     ]
    }
   ],
   "source": [
    "import os\n",
    "import sys\n",
    "from collections import defaultdict\n",
    "\n",
    "print(sys.version)\n",
    "\n",
    "DATA_PATH = 'SRL_data/data/'\n",
    "DEV_PATH = os.path.join(DATA_PATH, 'cpbdev.txt')\n",
    "TRAIN_PATH = os.path.join(DATA_PATH, 'cpbtrain.txt')\n",
    "TEST_PATH = os.path.join(DATA_PATH, 'cpbtest.txt')"
   ]
  },
  {
   "cell_type": "code",
   "execution_count": 11,
   "metadata": {
    "collapsed": true
   },
   "outputs": [],
   "source": [
    "paths = (TRAIN_PATH, DEV_PATH, TEST_PATH)\n",
    "word_dict = defaultdict(int)\n",
    "pos_dict = defaultdict(int)\n",
    "label_dict = defaultdict(int)\n",
    "\n",
    "for path in paths:\n",
    "    for lineno, line in enumerate(open(path, 'r', encoding='utf8')):\n",
    "        tokens = line.strip().split()\n",
    "        for token in tokens:\n",
    "            v = token.split('/')\n",
    "            assert len(v) == 3 or len(v) ==2, 'wrong length of token at line:{}-{} {}'.format(path, lineno, line)\n",
    "            word_dict[v[0]] += 1\n",
    "            pos_dict[v[1]] += 1\n",
    "            if len(v) == 3:\n",
    "                label_dict[v[2]] += 1"
   ]
  },
  {
   "cell_type": "code",
   "execution_count": 43,
   "metadata": {},
   "outputs": [
    {
     "data": {
      "text/plain": [
       "18481"
      ]
     },
     "execution_count": 43,
     "metadata": {},
     "output_type": "execute_result"
    },
    {
     "data": {
      "text/plain": [
       "32"
      ]
     },
     "execution_count": 43,
     "metadata": {},
     "output_type": "execute_result"
    },
    {
     "data": {
      "text/plain": [
       "67"
      ]
     },
     "execution_count": 43,
     "metadata": {},
     "output_type": "execute_result"
    }
   ],
   "source": [
    "import json\n",
    "\n",
    "len(word_dict)\n",
    "len(pos_dict)\n",
    "len(label_dict)\n",
    "\n",
    "json.dump(word_dict, open(os.path.join(DATA_PATH, 'word_dict.json'), 'w'))\n",
    "json.dump(pos_dict, open(os.path.join(DATA_PATH, 'pos_dict.json'), 'w'))\n",
    "json.dump(label_dict, open(os.path.join(DATA_PATH, 'label_dict.json'), 'w'))"
   ]
  },
  {
   "cell_type": "code",
   "execution_count": 13,
   "metadata": {
    "scrolled": true
   },
   "outputs": [
    {
     "data": {
      "text/plain": [
       "defaultdict(int,\n",
       "            {'B-ARG0': 6928,\n",
       "             'B-ARG1': 10303,\n",
       "             'B-ARG2': 1212,\n",
       "             'B-ARG3': 179,\n",
       "             'B-ARG4': 17,\n",
       "             'B-ARGM-ADV': 1537,\n",
       "             'B-ARGM-BNF': 99,\n",
       "             'B-ARGM-CND': 108,\n",
       "             'B-ARGM-DIR': 144,\n",
       "             'B-ARGM-DIS': 5,\n",
       "             'B-ARGM-EXT': 89,\n",
       "             'B-ARGM-FRQ': 5,\n",
       "             'B-ARGM-LOC': 1427,\n",
       "             'B-ARGM-MNR': 846,\n",
       "             'B-ARGM-PRP': 270,\n",
       "             'B-ARGM-TMP': 2072,\n",
       "             'B-ARGM-TPC': 92,\n",
       "             'E-ARG0': 6928,\n",
       "             'E-ARG1': 10303,\n",
       "             'E-ARG2': 1212,\n",
       "             'E-ARG3': 179,\n",
       "             'E-ARG4': 17,\n",
       "             'E-ARGM-ADV': 1537,\n",
       "             'E-ARGM-BNF': 99,\n",
       "             'E-ARGM-CND': 108,\n",
       "             'E-ARGM-DIR': 144,\n",
       "             'E-ARGM-DIS': 5,\n",
       "             'E-ARGM-EXT': 89,\n",
       "             'E-ARGM-FRQ': 5,\n",
       "             'E-ARGM-LOC': 1427,\n",
       "             'E-ARGM-MNR': 846,\n",
       "             'E-ARGM-PRP': 270,\n",
       "             'E-ARGM-TMP': 2072,\n",
       "             'E-ARGM-TPC': 92,\n",
       "             'I-ARG0': 19838,\n",
       "             'I-ARG1': 48166,\n",
       "             'I-ARG2': 4545,\n",
       "             'I-ARG3': 949,\n",
       "             'I-ARG4': 77,\n",
       "             'I-ARGM-ADV': 2935,\n",
       "             'I-ARGM-BNF': 350,\n",
       "             'I-ARGM-CND': 681,\n",
       "             'I-ARGM-DIR': 405,\n",
       "             'I-ARGM-DIS': 4,\n",
       "             'I-ARGM-EXT': 45,\n",
       "             'I-ARGM-LOC': 4414,\n",
       "             'I-ARGM-MNR': 2798,\n",
       "             'I-ARGM-PRP': 1674,\n",
       "             'I-ARGM-TMP': 4398,\n",
       "             'I-ARGM-TPC': 340,\n",
       "             'O': 506635,\n",
       "             'S-ARG0': 4478,\n",
       "             'S-ARG1': 3237,\n",
       "             'S-ARG2': 241,\n",
       "             'S-ARG3': 15,\n",
       "             'S-ARG4': 10,\n",
       "             'S-ARGM-ADV': 5792,\n",
       "             'S-ARGM-CND': 3,\n",
       "             'S-ARGM-DIR': 1,\n",
       "             'S-ARGM-DIS': 228,\n",
       "             'S-ARGM-EXT': 28,\n",
       "             'S-ARGM-LOC': 140,\n",
       "             'S-ARGM-MNR': 95,\n",
       "             'S-ARGM-PRP': 17,\n",
       "             'S-ARGM-TMP': 1350,\n",
       "             'S-ARGM-TPC': 16,\n",
       "             'rel': 20972})"
      ]
     },
     "execution_count": 13,
     "metadata": {},
     "output_type": "execute_result"
    }
   ],
   "source": [
    "label_dict"
   ]
  },
  {
   "cell_type": "code",
   "execution_count": 39,
   "metadata": {},
   "outputs": [
    {
     "data": {
      "text/plain": [
       "(array([ 11865.,   2744.,   1016.,    601.,    386.,    259.,    217.,\n",
       "           145.,    146.]),\n",
       " array([ 0, 10, 20, 30, 40, 50, 60, 70, 80, 90]),\n",
       " <a list of 9 Patch objects>)"
      ]
     },
     "execution_count": 39,
     "metadata": {},
     "output_type": "execute_result"
    },
    {
     "data": {
      "text/plain": [
       "(array([    0.,  2003.,  2201.,  1917.,  1629.,  1162.,  1034.,   736.,\n",
       "         1183.]),\n",
       " array([0, 1, 2, 3, 4, 5, 6, 7, 8, 9]),\n",
       " <a list of 9 Patch objects>)"
      ]
     },
     "execution_count": 39,
     "metadata": {},
     "output_type": "execute_result"
    },
    {
     "data": {
      "image/png": "[encoded data removed]",
      "text/plain": [
       "<matplotlib.figure.Figure at 0x110cff320>"
      ]
     },
     "metadata": {},
     "output_type": "display_data"
    }
   ],
   "source": [
    "%matplotlib inline\n",
    "from matplotlib import pyplot as plt\n",
    "\n",
    "# sorted(word_dict.items(), key=lambda x: x[1], reverse=True)\n",
    "plt.hist(word_dict.values(), bins=list(range(0, 100, 10)))\n",
    "plt.hist(word_dict.values(), bins=list(range(0, 10, 1)))"
   ]
  },
  {
   "cell_type": "code",
   "execution_count": null,
   "metadata": {
    "collapsed": true
   },
   "outputs": [],
   "source": []
  }
 ],
 "metadata": {
  "kernelspec": {
   "display_name": "Python 3",
   "language": "python",
   "name": "python3"
  },
  "language_info": {
   "codemirror_mode": {
    "name": "ipython",
    "version": 3
   },
   "file_extension": ".py",
   "mimetype": "text/x-python",
   "name": "python",
   "nbconvert_exporter": "python",
   "pygments_lexer": "ipython3",
   "version": "3.6.3"
  }
 },
 "nbformat": 4,
 "nbformat_minor": 2
}
